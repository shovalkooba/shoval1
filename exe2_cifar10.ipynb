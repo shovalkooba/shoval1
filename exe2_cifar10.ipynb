{
  "nbformat": 4,
  "nbformat_minor": 0,
  "metadata": {
    "colab": {
      "name": "exc2 part 1.ipynb",
      "provenance": [],
      "collapsed_sections": [],
      "machine_shape": "hm",
      "include_colab_link": true
    },
    "kernelspec": {
      "name": "python3",
      "display_name": "Python 3"
    }
  },
  "cells": [
    {
      "cell_type": "markdown",
      "metadata": {
        "id": "view-in-github",
        "colab_type": "text"
      },
      "source": [
        "<a href=\"https://colab.research.google.com/github/shovalkooba/shoval1/blob/master/exe2_cifar10.ipynb\" target=\"_parent\"><img src=\"https://colab.research.google.com/assets/colab-badge.svg\" alt=\"Open In Colab\"/></a>"
      ]
    },
    {
      "cell_type": "markdown",
      "metadata": {
        "id": "vp80hJV6qmzl",
        "colab_type": "text"
      },
      "source": [
        "Confusion matrix plot function"
      ]
    },
    {
      "cell_type": "code",
      "metadata": {
        "id": "feFKZJucqm89",
        "colab_type": "code",
        "colab": {}
      },
      "source": [
        "\"\"\"\n",
        "================\n",
        "Confusion matrix\n",
        "================\n",
        "\n",
        "Example of confusion matrix usage to evaluate the quality\n",
        "of the output of a classifier on the iris data set. The\n",
        "diagonal elements represent the number of points for which\n",
        "the predicted label is equal to the true label, while\n",
        "off-diagonal elements are those that are mislabeled by the\n",
        "classifier. The higher the diagonal values of the confusion\n",
        "matrix the better, indicating many correct predictions.\n",
        "\n",
        "The figures show the confusion matrix with and without\n",
        "normalization by class support size (number of elements\n",
        "in each class). This kind of normalization can be\n",
        "interesting in case of class imbalance to have a more\n",
        "visual interpretation of which class is being misclassified.\n",
        "\n",
        "Here the results are not as good as they could be as our\n",
        "choice for the regularization parameter C was not the best.\n",
        "In real life applications this parameter is usually chosen\n",
        "using :ref:`grid_search`.\n",
        "\n",
        "\"\"\"\n",
        "\n",
        "#print(__doc__)\n",
        "\n",
        "import itertools\n",
        "import numpy as np\n",
        "import matplotlib.pyplot as plt\n",
        "\n",
        "def plot_confusion_matrix(cm, classes,\n",
        "                          normalize=False,\n",
        "                          title='Confusion matrix',\n",
        "                          cmap=plt.cm.Blues):\n",
        "    \"\"\"\n",
        "    This function prints and plots the confusion matrix.\n",
        "    Normalization can be applied by setting `normalize=True`.\n",
        "    \"\"\"\n",
        "    if normalize:\n",
        "        normed_cm = cm.astype('float') / cm.sum(axis=1)[:, np.newaxis]\n",
        "        normed_cm = normed_cm*100;\n",
        "        print(\"Normalized confusion matrix\")\n",
        "        print(normed_cm)\n",
        "    else:\n",
        "        print('Confusion matrix, without normalization')\n",
        "\n",
        "    print(cm)\n",
        "\n",
        "    plt.figure(figsize=(20,20))\n",
        "    plt.imshow(normed_cm, interpolation='nearest', cmap=cmap)\n",
        "    plt.title(title)\n",
        "    plt.colorbar()\n",
        "    tick_marks = np.arange(len(classes))\n",
        "    plt.xticks(tick_marks, classes, rotation=45)\n",
        "    plt.yticks(tick_marks, classes)\n",
        "\n",
        "    fmt = '.2f' if normalize else 'd'\n",
        "    thresh = cm.max() / 2.\n",
        "    for i, j in itertools.product(range(cm.shape[0]), range(cm.shape[1])):\n",
        "        plt.text(j,i, format(normed_cm[i, j], fmt)+'%\\n('+(format(cm[i, j], 'd'))+')',\n",
        "                 horizontalalignment=\"center\",\n",
        "                 color=\"white\" if cm[i, j] > thresh else \"black\")\n",
        "\n",
        "    plt.gcf().subplots_adjust(bottom=0.3)\n",
        "    plt.ylabel('True label')\n",
        "    plt.xlabel('Predicted label')\n",
        "\n"
      ],
      "execution_count": 0,
      "outputs": []
    },
    {
      "cell_type": "markdown",
      "metadata": {
        "id": "xRUMeIPmj4xB",
        "colab_type": "text"
      },
      "source": [
        "Import Libraries"
      ]
    },
    {
      "cell_type": "code",
      "metadata": {
        "id": "cLZY273Hj5cP",
        "colab_type": "code",
        "outputId": "6b34612e-4b5c-4b80-c15f-9bbd1f13658d",
        "colab": {
          "base_uri": "https://localhost:8080/",
          "height": 97
        }
      },
      "source": [
        "from keras.datasets import cifar10\n",
        "from keras.models import Sequential, Model\n",
        "import keras.layers as layers\n",
        "from keras.utils import to_categorical\n",
        "from keras import optimizers\n",
        "from keras.models import model_from_json\n",
        "import matplotlib.pyplot as plt\n",
        "from sklearn.metrics import confusion_matrix\n",
        "from sklearn.metrics import plot_confusion_matrix\n",
        "import numpy as np\n",
        "from keras.layers import Conv2D,Flatten, Dense, Activation, MaxPooling2D, Dropout, BatchNormalization\n",
        "from sklearn.metrics import roc_auc_score\n",
        "from sklearn.metrics import roc_curve, auc"
      ],
      "execution_count": 2,
      "outputs": [
        {
          "output_type": "stream",
          "text": [
            "Using TensorFlow backend.\n"
          ],
          "name": "stderr"
        },
        {
          "output_type": "display_data",
          "data": {
            "text/html": [
              "<p style=\"color: red;\">\n",
              "The default version of TensorFlow in Colab will soon switch to TensorFlow 2.x.<br>\n",
              "We recommend you <a href=\"https://www.tensorflow.org/guide/migrate\" target=\"_blank\">upgrade</a> now \n",
              "or ensure your notebook will continue to use TensorFlow 1.x via the <code>%tensorflow_version 1.x</code> magic:\n",
              "<a href=\"https://colab.research.google.com/notebooks/tensorflow_version.ipynb\" target=\"_blank\">more info</a>.</p>\n"
            ],
            "text/plain": [
              "<IPython.core.display.HTML object>"
            ]
          },
          "metadata": {
            "tags": []
          }
        }
      ]
    },
    {
      "cell_type": "markdown",
      "metadata": {
        "id": "j6u7hk-_j360",
        "colab_type": "text"
      },
      "source": [
        "Load Data"
      ]
    },
    {
      "cell_type": "code",
      "metadata": {
        "id": "NI7705ValnKH",
        "colab_type": "code",
        "outputId": "ac91a9f9-3554-4f92-f9a9-d6a30679f656",
        "colab": {
          "base_uri": "https://localhost:8080/",
          "height": 139
        }
      },
      "source": [
        "(x_train, y_train), (x_test, y_test) = cifar10.load_data()\n",
        "\n",
        "\n",
        "# Change labels to one-hot encoding\\n\",\n",
        "y_train = to_categorical(y_train)\n",
        "y_test = to_categorical(y_test)\n",
        "# Print shapes\n",
        "print('x_train shape:', x_train.shape)\n",
        "print('x_test shape:', x_test.shape)\n",
        "print('y_train shape:', y_train.shape)\n",
        "print('y_test shape:', y_test.shape)"
      ],
      "execution_count": 3,
      "outputs": [
        {
          "output_type": "stream",
          "text": [
            "Downloading data from https://www.cs.toronto.edu/~kriz/cifar-10-python.tar.gz\n",
            "170500096/170498071 [==============================] - 2s 0us/step\n",
            "x_train shape: (50000, 32, 32, 3)\n",
            "x_test shape: (10000, 32, 32, 3)\n",
            "y_train shape: (50000, 10)\n",
            "y_test shape: (10000, 10)\n"
          ],
          "name": "stdout"
        }
      ]
    },
    {
      "cell_type": "markdown",
      "metadata": {
        "id": "PW4J_QpOj3DN",
        "colab_type": "text"
      },
      "source": [
        "Define Parameters"
      ]
    },
    {
      "cell_type": "code",
      "metadata": {
        "id": "Zusbhm_fnZ7e",
        "colab_type": "code",
        "colab": {}
      },
      "source": [
        "num_of_clss =   10          # number of classes\n",
        "\n",
        "lr =      1e-4               # learning rate \n",
        "beta_1 =      0.9           # beta 1 - for adam optimizer\n",
        "beta_2 = 0.99        # beta 2 - for adam optimizer\n",
        "epsilon =    1e-8            # epsilon - for adam optimizer\n",
        "epochs =    50           # number of epochs \n",
        "bs =       16        # batch size\n",
        "dp=0.5"
      ],
      "execution_count": 0,
      "outputs": []
    },
    {
      "cell_type": "markdown",
      "metadata": {
        "id": "G8VZyVhonhaZ",
        "colab_type": "text"
      },
      "source": [
        "Network layes"
      ]
    },
    {
      "cell_type": "code",
      "metadata": {
        "id": "N9E4RIjrnpPK",
        "colab_type": "code",
        "colab": {}
      },
      "source": [
        "model = Sequential()\n",
        "model.add(Conv2D(32, (3, 3), activation='relu', padding='same'))\n",
        "model.add(Conv2D(32, (3, 3), activation='relu', padding='same'))\n",
        "model.add(MaxPooling2D((2, 2)))\n",
        "model.add(Dropout(dp))\n",
        "\n",
        "model.add(Conv2D(64, (3, 3), activation='relu', padding='same'))\n",
        "model.add(Conv2D(64, (3, 3), activation='relu', padding='same'))\n",
        "model.add(MaxPooling2D((2, 2)))\n",
        "model.add(Dropout(dp))\n",
        "\n",
        "model.add(Conv2D(128, (3, 3), activation='relu', padding='same'))\n",
        "model.add(Conv2D(128, (3, 3), activation='relu', padding='same'))\n",
        "model.add(MaxPooling2D((2, 2)))\n",
        "model.add(Dropout(dp))\n",
        "\n",
        "model.add(Flatten())\n",
        "model.add(Dense(128, activation='sigmoid',))\n",
        "model.add(Dense(10, activation='softmax'))\n"
      ],
      "execution_count": 0,
      "outputs": []
    },
    {
      "cell_type": "markdown",
      "metadata": {
        "id": "FmIuhpu2oVww",
        "colab_type": "text"
      },
      "source": [
        "Train the model"
      ]
    },
    {
      "cell_type": "code",
      "metadata": {
        "id": "FzicMwDGoJ1h",
        "colab_type": "code",
        "outputId": "b8f66d64-be90-42f5-da31-0e6f22caacd1",
        "colab": {
          "base_uri": "https://localhost:8080/",
          "height": 1000
        }
      },
      "source": [
        "# define the optimizer and compile the model\n",
        "adam = optimizers.Adam(lr=lr, beta_1=beta_1, beta_2=beta_2, epsilon=epsilon)\n",
        "model.compile(optimizer=adam, loss='categorical_crossentropy', metrics=['accuracy'])\n",
        "\n",
        "# Train the model, iterating on the data in batches of 64 samples\n",
        "history = model.fit(x_train, y_train, validation_split=0.3, epochs=epochs, batch_size=bs)\n"
      ],
      "execution_count": 12,
      "outputs": [
        {
          "output_type": "stream",
          "text": [
            "Train on 35000 samples, validate on 15000 samples\n",
            "Epoch 1/50\n",
            "35000/35000 [==============================] - 189s 5ms/step - loss: 2.3239 - acc: 0.1105 - val_loss: 2.2925 - val_acc: 0.1384\n",
            "Epoch 2/50\n",
            "35000/35000 [==============================] - 186s 5ms/step - loss: 2.3046 - acc: 0.1119 - val_loss: 2.2997 - val_acc: 0.1398\n",
            "Epoch 3/50\n",
            "35000/35000 [==============================] - 190s 5ms/step - loss: 2.2673 - acc: 0.1359 - val_loss: 2.1547 - val_acc: 0.1934\n",
            "Epoch 4/50\n",
            "35000/35000 [==============================] - 192s 5ms/step - loss: 2.0816 - acc: 0.2176 - val_loss: 1.9780 - val_acc: 0.2569\n",
            "Epoch 5/50\n",
            "35000/35000 [==============================] - 185s 5ms/step - loss: 1.9434 - acc: 0.2770 - val_loss: 1.8941 - val_acc: 0.2985\n",
            "Epoch 6/50\n",
            "35000/35000 [==============================] - 186s 5ms/step - loss: 1.7925 - acc: 0.3351 - val_loss: 1.6883 - val_acc: 0.3692\n",
            "Epoch 7/50\n",
            "35000/35000 [==============================] - 184s 5ms/step - loss: 1.6785 - acc: 0.3774 - val_loss: 1.6348 - val_acc: 0.4036\n",
            "Epoch 8/50\n",
            "35000/35000 [==============================] - 183s 5ms/step - loss: 1.5611 - acc: 0.4270 - val_loss: 1.5542 - val_acc: 0.4380\n",
            "Epoch 9/50\n",
            "35000/35000 [==============================] - 191s 5ms/step - loss: 1.4357 - acc: 0.4721 - val_loss: 1.5686 - val_acc: 0.4455\n",
            "Epoch 10/50\n",
            "35000/35000 [==============================] - 197s 6ms/step - loss: 1.3358 - acc: 0.5104 - val_loss: 1.3216 - val_acc: 0.5251\n",
            "Epoch 11/50\n",
            "35000/35000 [==============================] - 198s 6ms/step - loss: 1.2416 - acc: 0.5524 - val_loss: 1.2677 - val_acc: 0.5505\n",
            "Epoch 12/50\n",
            "35000/35000 [==============================] - 199s 6ms/step - loss: 1.1764 - acc: 0.5789 - val_loss: 1.0741 - val_acc: 0.6185\n",
            "Epoch 13/50\n",
            "35000/35000 [==============================] - 195s 6ms/step - loss: 1.1186 - acc: 0.5982 - val_loss: 1.1259 - val_acc: 0.6052\n",
            "Epoch 14/50\n",
            "35000/35000 [==============================] - 194s 6ms/step - loss: 1.0721 - acc: 0.6171 - val_loss: 1.1207 - val_acc: 0.6111\n",
            "Epoch 15/50\n",
            "35000/35000 [==============================] - 189s 5ms/step - loss: 1.0324 - acc: 0.6321 - val_loss: 0.9478 - val_acc: 0.6661\n",
            "Epoch 16/50\n",
            "35000/35000 [==============================] - 192s 5ms/step - loss: 0.9992 - acc: 0.6435 - val_loss: 0.9826 - val_acc: 0.6584\n",
            "Epoch 17/50\n",
            "35000/35000 [==============================] - 195s 6ms/step - loss: 0.9669 - acc: 0.6582 - val_loss: 0.9311 - val_acc: 0.6717\n",
            "Epoch 18/50\n",
            "35000/35000 [==============================] - 187s 5ms/step - loss: 0.9421 - acc: 0.6672 - val_loss: 0.9342 - val_acc: 0.6712\n",
            "Epoch 19/50\n",
            "35000/35000 [==============================] - 186s 5ms/step - loss: 0.9164 - acc: 0.6764 - val_loss: 0.8473 - val_acc: 0.7004\n",
            "Epoch 20/50\n",
            "35000/35000 [==============================] - 186s 5ms/step - loss: 0.8934 - acc: 0.6860 - val_loss: 0.8844 - val_acc: 0.6927\n",
            "Epoch 21/50\n",
            "35000/35000 [==============================] - 187s 5ms/step - loss: 0.8683 - acc: 0.6938 - val_loss: 0.8172 - val_acc: 0.7129\n",
            "Epoch 22/50\n",
            "35000/35000 [==============================] - 183s 5ms/step - loss: 0.8550 - acc: 0.6968 - val_loss: 0.8256 - val_acc: 0.7133\n",
            "Epoch 23/50\n",
            "35000/35000 [==============================] - 181s 5ms/step - loss: 0.8338 - acc: 0.7068 - val_loss: 0.8055 - val_acc: 0.7187\n",
            "Epoch 24/50\n",
            "35000/35000 [==============================] - 180s 5ms/step - loss: 0.8149 - acc: 0.7143 - val_loss: 0.7890 - val_acc: 0.7245\n",
            "Epoch 25/50\n",
            "35000/35000 [==============================] - 181s 5ms/step - loss: 0.8033 - acc: 0.7159 - val_loss: 0.8212 - val_acc: 0.7130\n",
            "Epoch 26/50\n",
            "35000/35000 [==============================] - 186s 5ms/step - loss: 0.7896 - acc: 0.7209 - val_loss: 0.7498 - val_acc: 0.7391\n",
            "Epoch 27/50\n",
            "35000/35000 [==============================] - 182s 5ms/step - loss: 0.7796 - acc: 0.7268 - val_loss: 0.7865 - val_acc: 0.7273\n",
            "Epoch 28/50\n",
            "35000/35000 [==============================] - 182s 5ms/step - loss: 0.7655 - acc: 0.7301 - val_loss: 0.7383 - val_acc: 0.7441\n",
            "Epoch 29/50\n",
            "35000/35000 [==============================] - 179s 5ms/step - loss: 0.7490 - acc: 0.7352 - val_loss: 0.7313 - val_acc: 0.7456\n",
            "Epoch 30/50\n",
            "35000/35000 [==============================] - 182s 5ms/step - loss: 0.7420 - acc: 0.7404 - val_loss: 0.6961 - val_acc: 0.7576\n",
            "Epoch 31/50\n",
            "35000/35000 [==============================] - 182s 5ms/step - loss: 0.7357 - acc: 0.7418 - val_loss: 0.7655 - val_acc: 0.7391\n",
            "Epoch 32/50\n",
            "35000/35000 [==============================] - 188s 5ms/step - loss: 0.7218 - acc: 0.7471 - val_loss: 0.7025 - val_acc: 0.7535\n",
            "Epoch 33/50\n",
            "35000/35000 [==============================] - 184s 5ms/step - loss: 0.7166 - acc: 0.7498 - val_loss: 0.6939 - val_acc: 0.7607\n",
            "Epoch 34/50\n",
            "35000/35000 [==============================] - 185s 5ms/step - loss: 0.7037 - acc: 0.7533 - val_loss: 0.7175 - val_acc: 0.7538\n",
            "Epoch 35/50\n",
            "35000/35000 [==============================] - 184s 5ms/step - loss: 0.6957 - acc: 0.7551 - val_loss: 0.7140 - val_acc: 0.7566\n",
            "Epoch 36/50\n",
            "35000/35000 [==============================] - 179s 5ms/step - loss: 0.6912 - acc: 0.7565 - val_loss: 0.6973 - val_acc: 0.7600\n",
            "Epoch 37/50\n",
            "35000/35000 [==============================] - 179s 5ms/step - loss: 0.6772 - acc: 0.7623 - val_loss: 0.6942 - val_acc: 0.7623\n",
            "Epoch 38/50\n",
            "35000/35000 [==============================] - 191s 5ms/step - loss: 0.6749 - acc: 0.7618 - val_loss: 0.6411 - val_acc: 0.7789\n",
            "Epoch 39/50\n",
            "35000/35000 [==============================] - 190s 5ms/step - loss: 0.6664 - acc: 0.7645 - val_loss: 0.6657 - val_acc: 0.7725\n",
            "Epoch 40/50\n",
            "35000/35000 [==============================] - 182s 5ms/step - loss: 0.6673 - acc: 0.7661 - val_loss: 0.6500 - val_acc: 0.7801\n",
            "Epoch 41/50\n",
            "35000/35000 [==============================] - 189s 5ms/step - loss: 0.6568 - acc: 0.7715 - val_loss: 0.6586 - val_acc: 0.7748\n",
            "Epoch 42/50\n",
            "35000/35000 [==============================] - 186s 5ms/step - loss: 0.6493 - acc: 0.7719 - val_loss: 0.6474 - val_acc: 0.7777\n",
            "Epoch 43/50\n",
            "35000/35000 [==============================] - 188s 5ms/step - loss: 0.6424 - acc: 0.7749 - val_loss: 0.6517 - val_acc: 0.7757\n",
            "Epoch 44/50\n",
            "35000/35000 [==============================] - 186s 5ms/step - loss: 0.6373 - acc: 0.7760 - val_loss: 0.6198 - val_acc: 0.7887\n",
            "Epoch 45/50\n",
            "35000/35000 [==============================] - 186s 5ms/step - loss: 0.6324 - acc: 0.7775 - val_loss: 0.6431 - val_acc: 0.7786\n",
            "Epoch 46/50\n",
            "35000/35000 [==============================] - 186s 5ms/step - loss: 0.6283 - acc: 0.7792 - val_loss: 0.6246 - val_acc: 0.7838\n",
            "Epoch 47/50\n",
            "35000/35000 [==============================] - 186s 5ms/step - loss: 0.6214 - acc: 0.7817 - val_loss: 0.6348 - val_acc: 0.7886\n",
            "Epoch 48/50\n",
            "35000/35000 [==============================] - 187s 5ms/step - loss: 0.6144 - acc: 0.7862 - val_loss: 0.6469 - val_acc: 0.7799\n",
            "Epoch 49/50\n",
            "35000/35000 [==============================] - 189s 5ms/step - loss: 0.6152 - acc: 0.7842 - val_loss: 0.6258 - val_acc: 0.7875\n",
            "Epoch 50/50\n",
            "35000/35000 [==============================] - 180s 5ms/step - loss: 0.6100 - acc: 0.7877 - val_loss: 0.6439 - val_acc: 0.7857\n"
          ],
          "name": "stdout"
        }
      ]
    },
    {
      "cell_type": "markdown",
      "metadata": {
        "id": "tgx10wVmyCfF",
        "colab_type": "text"
      },
      "source": [
        "Plot Train and Validation loss"
      ]
    },
    {
      "cell_type": "code",
      "metadata": {
        "id": "GCOJuIl6yPKQ",
        "colab_type": "code",
        "outputId": "f9c51142-d3fa-48da-d9af-572b0f201c44",
        "colab": {
          "base_uri": "https://localhost:8080/",
          "height": 295
        }
      },
      "source": [
        "plt.plot(history.history['loss'])\n",
        "plt.plot(history.history['val_loss'])\n",
        "plt.title('model loss')\n",
        "plt.ylabel('loss')\n",
        "plt.xlabel('epoch')\n",
        "plt.legend(['train', 'validation'], loc='upper right')\n",
        "plt.show(); plt.close()\n"
      ],
      "execution_count": 13,
      "outputs": [
        {
          "output_type": "display_data",
          "data": {
            "image/png": "[encoded data removed]",
            "text/plain": [
              "<Figure size 432x288 with 1 Axes>"
            ]
          },
          "metadata": {
            "tags": []
          }
        }
      ]
    },
    {
      "cell_type": "markdown",
      "metadata": {
        "id": "PrsbTdfOocYw",
        "colab_type": "text"
      },
      "source": [
        "Model evaluation"
      ]
    },
    {
      "cell_type": "code",
      "metadata": {
        "id": "zCe9mTe4oy67",
        "colab_type": "code",
        "outputId": "f3010193-942f-4b6d-fb6e-486ce75a8d20",
        "colab": {
          "base_uri": "https://localhost:8080/",
          "height": 68
        }
      },
      "source": [
        "test_loss, test_acc = model.evaluate(x_test, y_test)\n",
        "\n",
        "# Print results\n",
        "print('test loss:', test_loss)\n",
        "print('test accuracy:', test_acc)"
      ],
      "execution_count": 8,
      "outputs": [
        {
          "output_type": "stream",
          "text": [
            "10000/10000 [==============================] - 11s 1ms/step\n",
            "test loss: 0.7079502778530121\n",
            "test accuracy: 0.7591\n"
          ],
          "name": "stdout"
        }
      ]
    },
    {
      "cell_type": "markdown",
      "metadata": {
        "id": "qAaV8CF8oQJ7",
        "colab_type": "text"
      },
      "source": [
        "Predict on test set"
      ]
    },
    {
      "cell_type": "code",
      "metadata": {
        "id": "Ste3IfZYpLrl",
        "colab_type": "code",
        "outputId": "29c556ca-326c-49c3-baab-fb5b76dad954",
        "colab": {
          "base_uri": "https://localhost:8080/",
          "height": 223
        }
      },
      "source": [
        "y_pred = model.predict(x_test)\n",
        "\n",
        "# Confusion Matrix\n",
        "cm = confusion_matrix(np.argmax(y_test,axis=1), np.argmax(np.round(y_pred),axis=1))\n",
        "labels = ['class ' + str(i) for i in range(num_of_clss)] \n",
        "plot_confusion_matrix(cm,labels,title='Confusion Matrix',normalize=True)\n"
      ],
      "execution_count": 0,
      "outputs": [
        {
          "output_type": "error",
          "ename": "TypeError",
          "evalue": "ignored",
          "traceback": [
            "\u001b[0;31m---------------------------------------------------------------------------\u001b[0m",
            "\u001b[0;31mTypeError\u001b[0m                                 Traceback (most recent call last)",
            "\u001b[0;32m<ipython-input-42-ec044f86289f>\u001b[0m in \u001b[0;36m<module>\u001b[0;34m()\u001b[0m\n\u001b[1;32m      4\u001b[0m \u001b[0mcm\u001b[0m \u001b[0;34m=\u001b[0m \u001b[0mconfusion_matrix\u001b[0m\u001b[0;34m(\u001b[0m\u001b[0mnp\u001b[0m\u001b[0;34m.\u001b[0m\u001b[0margmax\u001b[0m\u001b[0;34m(\u001b[0m\u001b[0my_test\u001b[0m\u001b[0;34m,\u001b[0m\u001b[0maxis\u001b[0m\u001b[0;34m=\u001b[0m\u001b[0;36m1\u001b[0m\u001b[0;34m)\u001b[0m\u001b[0;34m,\u001b[0m \u001b[0mnp\u001b[0m\u001b[0;34m.\u001b[0m\u001b[0margmax\u001b[0m\u001b[0;34m(\u001b[0m\u001b[0mnp\u001b[0m\u001b[0;34m.\u001b[0m\u001b[0mround\u001b[0m\u001b[0;34m(\u001b[0m\u001b[0my_pred\u001b[0m\u001b[0;34m)\u001b[0m\u001b[0;34m,\u001b[0m\u001b[0maxis\u001b[0m\u001b[0;34m=\u001b[0m\u001b[0;36m1\u001b[0m\u001b[0;34m)\u001b[0m\u001b[0;34m)\u001b[0m\u001b[0;34m\u001b[0m\u001b[0;34m\u001b[0m\u001b[0m\n\u001b[1;32m      5\u001b[0m \u001b[0mlabels\u001b[0m \u001b[0;34m=\u001b[0m \u001b[0;34m[\u001b[0m\u001b[0;34m'class '\u001b[0m \u001b[0;34m+\u001b[0m \u001b[0mstr\u001b[0m\u001b[0;34m(\u001b[0m\u001b[0mi\u001b[0m\u001b[0;34m)\u001b[0m \u001b[0;32mfor\u001b[0m \u001b[0mi\u001b[0m \u001b[0;32min\u001b[0m \u001b[0mrange\u001b[0m\u001b[0;34m(\u001b[0m\u001b[0mnum_of_clss\u001b[0m\u001b[0;34m)\u001b[0m\u001b[0;34m]\u001b[0m\u001b[0;34m\u001b[0m\u001b[0;34m\u001b[0m\u001b[0m\n\u001b[0;32m----> 6\u001b[0;31m \u001b[0mplot_confusion_matrix\u001b[0m\u001b[0;34m(\u001b[0m\u001b[0mcm\u001b[0m\u001b[0;34m,\u001b[0m\u001b[0mlabels\u001b[0m\u001b[0;34m,\u001b[0m\u001b[0mtitle\u001b[0m\u001b[0;34m=\u001b[0m\u001b[0;34m'Confusion Matrix'\u001b[0m\u001b[0;34m,\u001b[0m\u001b[0mnormalize\u001b[0m\u001b[0;34m=\u001b[0m\u001b[0;32mTrue\u001b[0m\u001b[0;34m)\u001b[0m\u001b[0;34m\u001b[0m\u001b[0;34m\u001b[0m\u001b[0m\n\u001b[0m",
            "\u001b[0;31mTypeError\u001b[0m: plot_confusion_matrix() got an unexpected keyword argument 'title'"
          ]
        }
      ]
    },
    {
      "cell_type": "markdown",
      "metadata": {
        "id": "gn3mF4HopYwS",
        "colab_type": "text"
      },
      "source": [
        "Sunnerize"
      ]
    },
    {
      "cell_type": "code",
      "metadata": {
        "id": "nfIVp-HIqWd3",
        "colab_type": "code",
        "outputId": "b9475305-b4b1-4909-a970-a3e4efe87b49",
        "colab": {
          "base_uri": "https://localhost:8080/",
          "height": 323
        }
      },
      "source": [
        "# Summerize the model arhiteture and parameters\n",
        "model.summary()"
      ],
      "execution_count": 0,
      "outputs": [
        {
          "output_type": "stream",
          "text": [
            "Model: \"sequential_5\"\n",
            "_________________________________________________________________\n",
            "Layer (type)                 Output Shape              Param #   \n",
            "=================================================================\n",
            "flatten_3 (Flatten)          (None, 784)               0         \n",
            "_________________________________________________________________\n",
            "dense_5 (Dense)              (None, 12)                9420      \n",
            "_________________________________________________________________\n",
            "activation_5 (Activation)    (None, 12)                0         \n",
            "_________________________________________________________________\n",
            "dense_6 (Dense)              (None, 10)                130       \n",
            "_________________________________________________________________\n",
            "activation_6 (Activation)    (None, 10)                0         \n",
            "=================================================================\n",
            "Total params: 9,550\n",
            "Trainable params: 9,550\n",
            "Non-trainable params: 0\n",
            "_________________________________________________________________\n"
          ],
          "name": "stdout"
        }
      ]
    }
  ]
}