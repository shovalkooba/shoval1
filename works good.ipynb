{
 "cells": [
  {
   "cell_type": "markdown",
   "metadata": {},
   "source": [
    "# Tutorial No. 3"
   ]
  },
  {
   "cell_type": "markdown",
   "metadata": {},
   "source": [
    "## 1. Import Packages"
   ]
  },
  {
   "cell_type": "code",
   "execution_count": 19,
   "metadata": {},
   "outputs": [
    {
     "name": "stdout",
     "output_type": "stream",
     "text": [
      "\n",
      "Note: you may need to restart the kernel to use updated packages.\n"
     ]
    }
   ],
   "source": []
  },
  {
   "cell_type": "code",
   "execution_count": 7,
   "metadata": {},
   "outputs": [],
   "source": [
    "from keras.models import Sequential\n",
    "from keras.layers import Dropout, BatchNormalization\n",
    "from keras.layers import Conv2D, Conv2DTranspose, MaxPooling2D, UpSampling2D\n",
    "from keras.layers import Softmax\n",
    "from keras.utils import to_categorical\n",
    "from keras.callbacks import EarlyStopping\n",
    "from keras import optimizers\n",
    "\n",
    "import numpy as np\n",
    "import cv2 \n",
    "import os\n",
    "from glob import glob\n",
    "import matplotlib.pyplot as plt"
   ]
  },
  {
   "cell_type": "markdown",
   "metadata": {},
   "source": [
    "## 2. Load Data"
   ]
  },
  {
   "cell_type": "code",
   "execution_count": 24,
   "metadata": {},
   "outputs": [
    {
     "name": "stdout",
     "output_type": "stream",
     "text": [
      "x_train shape: (704, 64, 80, 1)\n",
      "x_test shape: (256, 64, 80, 1)\n",
      "y_train shape: (704, 64, 80, 3)\n",
      "y_test shape: (256, 64, 80, 3)\n"
     ]
    }
   ],
   "source": [
    "def read_data(directory):\n",
    "# =============================================================================\n",
    "#  This function gets a directory name and return all images in it concatenated \n",
    "#  to each other\n",
    "# =============================================================================    \n",
    "    data_list = glob(os.path.join('.','Data' + directory + '*.png'))\n",
    "    data = np.asarray([cv2.imread(img,0) for img in data_list])\n",
    "    return data\n",
    "\n",
    "# read data from directory\n",
    "x_train = read_data('\\Train\\Raw\\\\')\n",
    "y_train = read_data('\\Train\\Seg\\\\')\n",
    "x_test = read_data('\\Test\\Raw\\\\')\n",
    "y_test = read_data('\\Test\\Seg\\\\')\n",
    "\n",
    "# Change the shape to (n_clss)x(Height)x(Weight)x(channels)\n",
    "x_train = (np.expand_dims(x_train, axis=3)).astype('float')\n",
    "x_test =  (np.expand_dims(x_test, axis=3)).astype('float')\n",
    "\n",
    "# Change labels to categorical\n",
    "y_train = (to_categorical(y_train)).astype('float')\n",
    "y_test = (to_categorical(y_test)).astype('float')\n",
    "\n",
    "print('x_train shape:', x_train.shape)\n",
    "print('x_test shape:', x_test.shape)\n",
    "print('y_train shape:', y_train.shape)\n",
    "print('y_test shape:', y_test.shape)\n"
   ]
  },
  {
   "cell_type": "code",
   "execution_count": 25,
   "metadata": {},
   "outputs": [
    {
     "data": {
      "text/plain": [
       "(-0.5, 79.5, 63.5, -0.5)"
      ]
     },
     "execution_count": 25,
     "metadata": {},
     "output_type": "execute_result"
    },
    {
     "data": {
      "image/png": "[encoded data removed]",
      "text/plain": [
       "<Figure size 432x288 with 6 Axes>"
      ]
     },
     "metadata": {
      "needs_background": "light"
     },
     "output_type": "display_data"
    }
   ],
   "source": [
    "# visualize some images and their segmentation labels\n",
    "plt.subplot(2,3,1)\n",
    "plt.imshow(np.squeeze(x_train[150,:,:]))\n",
    "plt.axis('off')\n",
    "\n",
    "plt.subplot(2,3,2)\n",
    "plt.imshow(np.squeeze(x_train[295,:,:]))\n",
    "plt.axis('off')\n",
    "\n",
    "plt.subplot(2,3,3)\n",
    "plt.imshow(np.squeeze(x_train[650,:,:]))\n",
    "plt.axis('off')\n",
    "\n",
    "plt.subplot(2,3,4)\n",
    "plt.imshow(y_train[150,:,:])\n",
    "plt.axis('off')\n",
    "\n",
    "plt.subplot(2,3,5)\n",
    "plt.imshow(y_train[295,:,:])\n",
    "plt.axis('off')\n",
    "\n",
    "plt.subplot(2,3,6)\n",
    "plt.imshow(y_train[650,:,:])\n",
    "plt.axis('off')\n"
   ]
  },
  {
   "cell_type": "markdown",
   "metadata": {},
   "source": [
    "## 3. Define Parameters "
   ]
  },
  {
   "cell_type": "code",
   "execution_count": 78,
   "metadata": {},
   "outputs": [],
   "source": [
    "num_of_clss =   3          # number of classes\n",
    "lr =      5e-6               # learning rate \n",
    "beta_1 =      0.9           # beta 1 - for adam optimizer\n",
    "beta_2 = 0.99        # beta 2 - for adam optimizer\n",
    "epsilon =    1e-8            # epsilon - for adam optimizer\n",
    "epochs =    75           # number of epochs \n",
    "bs =       16        # batch size\n",
    "dp=0.5"
   ]
  },
  {
   "cell_type": "markdown",
   "metadata": {},
   "source": [
    "## 4. Build CNN Model"
   ]
  },
  {
   "cell_type": "code",
   "execution_count": 79,
   "metadata": {},
   "outputs": [],
   "source": [
    "model = Sequential()\n",
    "\n",
    "#DOWNscaling \n",
    "model.add(Conv2D(32 ,(3, 3), activation='relu', padding='same'))\n",
    "model.add(Conv2D(32 ,(3, 3), activation='relu', padding='same'))\n",
    "model.add(MaxPooling2D((2, 2)))\n",
    "model.add(Conv2D(64, (3, 3), activation='relu', padding='same'))\n",
    "model.add(Conv2D(64, (3, 3), activation='relu', padding='same'))\n",
    "model.add(Conv2D(64, (3, 3), activation='relu', padding='same'))\n",
    "model.add(MaxPooling2D((2, 2)))\n",
    "model.add(Conv2D(128,(3, 3), activation='relu', padding='same'))\n",
    "model.add(Conv2D(128, (3, 3), activation='relu', padding='same'))\n",
    "model.add(Conv2D(128, (3, 3), activation='relu', padding='same'))\n",
    "model.add(Conv2D(128, (3, 3), activation='relu', padding='same'))\n",
    "model.add(MaxPooling2D((2, 2)))\n",
    "\n",
    "#UPscaling\n",
    "model.add(UpSampling2D((2, 2)))\n",
    "model.add(Conv2DTranspose(32, (3, 3), activation='relu', padding='same'))\n",
    "model.add(Conv2DTranspose(32, (3, 3), activation='relu', padding='same'))\n",
    "model.add(Conv2DTranspose(32, (3, 3), activation='relu', padding='same'))\n",
    "model.add(Conv2DTranspose(32, (3, 3), activation='relu', padding='same'))\n",
    "model.add(UpSampling2D((2, 2)))\n",
    "model.add(Conv2DTranspose(64, (3, 3), activation='relu', padding='same'))\n",
    "model.add(Conv2DTranspose(64, (3, 3), activation='relu', padding='same'))\n",
    "model.add(Conv2DTranspose(64, (3, 3), activation='relu', padding='same'))\n",
    "model.add(UpSampling2D((2, 2)))\n",
    "model.add(Conv2DTranspose(128, (3, 3), activation='relu', padding='same'))\n",
    "model.add(Conv2DTranspose(128, (3, 3), activation='relu', padding='same'))\n",
    "\n",
    "#classification\n",
    "model.add(Conv2DTranspose(num_of_clss, (3, 3), activation='relu', padding='same'))\n",
    "model.add(Softmax(axis=3))\n",
    "\n"
   ]
  },
  {
   "cell_type": "markdown",
   "metadata": {},
   "source": [
    "##  5. Compile the Model"
   ]
  },
  {
   "cell_type": "code",
   "execution_count": 80,
   "metadata": {},
   "outputs": [],
   "source": [
    "# define the optimizer and compile the model\n",
    "adam = optimizers.Adam(lr=lr, beta_1=beta_1, beta_2=beta_2, epsilon=epsilon)\n",
    "model.compile(optimizer=adam, loss='categorical_crossentropy', metrics=['accuracy'])\n",
    "\n",
    "# add early stopping\n",
    "monitor = EarlyStopping(monitor='val_loss', min_delta=1e-4, patience=5, verbose=1, mode='auto')\n"
   ]
  },
  {
   "cell_type": "markdown",
   "metadata": {},
   "source": [
    "## 6. Train the Model"
   ]
  },
  {
   "cell_type": "code",
   "execution_count": 81,
   "metadata": {},
   "outputs": [
    {
     "name": "stdout",
     "output_type": "stream",
     "text": [
      "Train on 492 samples, validate on 212 samples\n",
      "Epoch 1/75\n",
      "492/492 [==============================] - 3s 7ms/step - loss: 1.0980 - acc: 0.9497 - val_loss: 1.0972 - val_acc: 0.9390\n",
      "Epoch 2/75\n",
      "492/492 [==============================] - 1s 2ms/step - loss: 1.0962 - acc: 0.9503 - val_loss: 1.0950 - val_acc: 0.9390\n",
      "Epoch 3/75\n",
      "492/492 [==============================] - 1s 2ms/step - loss: 1.0930 - acc: 0.9503 - val_loss: 1.0906 - val_acc: 0.9390\n",
      "Epoch 4/75\n",
      "492/492 [==============================] - 1s 2ms/step - loss: 1.0859 - acc: 0.9503 - val_loss: 1.0798 - val_acc: 0.9390\n",
      "Epoch 5/75\n",
      "492/492 [==============================] - 1s 2ms/step - loss: 1.0661 - acc: 0.9503 - val_loss: 1.0489 - val_acc: 0.9390\n",
      "Epoch 6/75\n",
      "492/492 [==============================] - 1s 2ms/step - loss: 1.0130 - acc: 0.9503 - val_loss: 0.9793 - val_acc: 0.9390\n",
      "Epoch 7/75\n",
      "492/492 [==============================] - 1s 2ms/step - loss: 0.9425 - acc: 0.9503 - val_loss: 0.9202 - val_acc: 0.9390\n",
      "Epoch 8/75\n",
      "492/492 [==============================] - 1s 2ms/step - loss: 0.8800 - acc: 0.9503 - val_loss: 0.8534 - val_acc: 0.9390\n",
      "Epoch 9/75\n",
      "492/492 [==============================] - 1s 2ms/step - loss: 0.8001 - acc: 0.9503 - val_loss: 0.7671 - val_acc: 0.9390\n",
      "Epoch 10/75\n",
      "492/492 [==============================] - 1s 2ms/step - loss: 0.6927 - acc: 0.9503 - val_loss: 0.6475 - val_acc: 0.9390\n",
      "Epoch 11/75\n",
      "492/492 [==============================] - 1s 2ms/step - loss: 0.5585 - acc: 0.9503 - val_loss: 0.5169 - val_acc: 0.9390\n",
      "Epoch 12/75\n",
      "492/492 [==============================] - 1s 2ms/step - loss: 0.4296 - acc: 0.9503 - val_loss: 0.4005 - val_acc: 0.9390\n",
      "Epoch 13/75\n",
      "492/492 [==============================] - 1s 2ms/step - loss: 0.3289 - acc: 0.9503 - val_loss: 0.3172 - val_acc: 0.9390\n",
      "Epoch 14/75\n",
      "492/492 [==============================] - 1s 2ms/step - loss: 0.2604 - acc: 0.9503 - val_loss: 0.2649 - val_acc: 0.9390\n",
      "Epoch 15/75\n",
      "492/492 [==============================] - 1s 2ms/step - loss: 0.2182 - acc: 0.9503 - val_loss: 0.2319 - val_acc: 0.9390\n",
      "Epoch 16/75\n",
      "492/492 [==============================] - 1s 2ms/step - loss: 0.1906 - acc: 0.9503 - val_loss: 0.2094 - val_acc: 0.9390\n",
      "Epoch 17/75\n",
      "492/492 [==============================] - 1s 2ms/step - loss: 0.1709 - acc: 0.9503 - val_loss: 0.1929 - val_acc: 0.9390\n",
      "Epoch 18/75\n",
      "492/492 [==============================] - 1s 2ms/step - loss: 0.1569 - acc: 0.9503 - val_loss: 0.1809 - val_acc: 0.9390\n",
      "Epoch 19/75\n",
      "492/492 [==============================] - 1s 2ms/step - loss: 0.1468 - acc: 0.9503 - val_loss: 0.1728 - val_acc: 0.9390\n",
      "Epoch 20/75\n",
      "492/492 [==============================] - 1s 2ms/step - loss: 0.1397 - acc: 0.9503 - val_loss: 0.1658 - val_acc: 0.9390\n",
      "Epoch 21/75\n",
      "492/492 [==============================] - 1s 2ms/step - loss: 0.1346 - acc: 0.9503 - val_loss: 0.1628 - val_acc: 0.9390\n",
      "Epoch 22/75\n",
      "492/492 [==============================] - 1s 2ms/step - loss: 0.1306 - acc: 0.9503 - val_loss: 0.1580 - val_acc: 0.9390\n",
      "Epoch 23/75\n",
      "492/492 [==============================] - 1s 2ms/step - loss: 0.1274 - acc: 0.9503 - val_loss: 0.1555 - val_acc: 0.9390\n",
      "Epoch 24/75\n",
      "492/492 [==============================] - 1s 2ms/step - loss: 0.1247 - acc: 0.9503 - val_loss: 0.1521 - val_acc: 0.9390\n",
      "Epoch 25/75\n",
      "492/492 [==============================] - 1s 2ms/step - loss: 0.1220 - acc: 0.9503 - val_loss: 0.1490 - val_acc: 0.9390\n",
      "Epoch 26/75\n",
      "492/492 [==============================] - 1s 2ms/step - loss: 0.1193 - acc: 0.9503 - val_loss: 0.1474 - val_acc: 0.9390\n",
      "Epoch 27/75\n",
      "492/492 [==============================] - 1s 2ms/step - loss: 0.1166 - acc: 0.9503 - val_loss: 0.1437 - val_acc: 0.9390\n",
      "Epoch 28/75\n",
      "492/492 [==============================] - 1s 2ms/step - loss: 0.1142 - acc: 0.9503 - val_loss: 0.1410 - val_acc: 0.9390\n",
      "Epoch 29/75\n",
      "492/492 [==============================] - 1s 2ms/step - loss: 0.1117 - acc: 0.9503 - val_loss: 0.1402 - val_acc: 0.9390\n",
      "Epoch 30/75\n",
      "492/492 [==============================] - 1s 2ms/step - loss: 0.1094 - acc: 0.9503 - val_loss: 0.1371 - val_acc: 0.9390\n",
      "Epoch 31/75\n",
      "492/492 [==============================] - 1s 2ms/step - loss: 0.1071 - acc: 0.9503 - val_loss: 0.1336 - val_acc: 0.9390\n",
      "Epoch 32/75\n",
      "492/492 [==============================] - 1s 2ms/step - loss: 0.1049 - acc: 0.9503 - val_loss: 0.1312 - val_acc: 0.9390\n",
      "Epoch 33/75\n",
      "492/492 [==============================] - 1s 2ms/step - loss: 0.1029 - acc: 0.9503 - val_loss: 0.1290 - val_acc: 0.9390\n",
      "Epoch 34/75\n",
      "492/492 [==============================] - 1s 2ms/step - loss: 0.1010 - acc: 0.9503 - val_loss: 0.1294 - val_acc: 0.9390\n",
      "Epoch 35/75\n",
      "492/492 [==============================] - 1s 2ms/step - loss: 0.0993 - acc: 0.9503 - val_loss: 0.1266 - val_acc: 0.9390\n",
      "Epoch 36/75\n",
      "492/492 [==============================] - 1s 2ms/step - loss: 0.0977 - acc: 0.9503 - val_loss: 0.1245 - val_acc: 0.9390\n",
      "Epoch 37/75\n",
      "492/492 [==============================] - 1s 2ms/step - loss: 0.0963 - acc: 0.9503 - val_loss: 0.1247 - val_acc: 0.9390\n",
      "Epoch 38/75\n",
      "492/492 [==============================] - 1s 2ms/step - loss: 0.0949 - acc: 0.9503 - val_loss: 0.1226 - val_acc: 0.9390\n",
      "Epoch 39/75\n",
      "492/492 [==============================] - 1s 2ms/step - loss: 0.0939 - acc: 0.9503 - val_loss: 0.1220 - val_acc: 0.9390\n",
      "Epoch 40/75\n",
      "492/492 [==============================] - 1s 2ms/step - loss: 0.0927 - acc: 0.9503 - val_loss: 0.1202 - val_acc: 0.9390\n",
      "Epoch 41/75\n",
      "492/492 [==============================] - 1s 2ms/step - loss: 0.0918 - acc: 0.9503 - val_loss: 0.1206 - val_acc: 0.9390\n",
      "Epoch 42/75\n",
      "492/492 [==============================] - 1s 2ms/step - loss: 0.0911 - acc: 0.9503 - val_loss: 0.1191 - val_acc: 0.9390\n",
      "Epoch 43/75\n",
      "492/492 [==============================] - 1s 2ms/step - loss: 0.0903 - acc: 0.9503 - val_loss: 0.1176 - val_acc: 0.9390\n",
      "Epoch 44/75\n",
      "492/492 [==============================] - 1s 2ms/step - loss: 0.0897 - acc: 0.9503 - val_loss: 0.1179 - val_acc: 0.9390\n",
      "Epoch 45/75\n",
      "492/492 [==============================] - 1s 2ms/step - loss: 0.0891 - acc: 0.9503 - val_loss: 0.1179 - val_acc: 0.9390\n",
      "Epoch 46/75\n",
      "492/492 [==============================] - 1s 2ms/step - loss: 0.0887 - acc: 0.9503 - val_loss: 0.1174 - val_acc: 0.9393\n",
      "Epoch 47/75\n",
      "492/492 [==============================] - 1s 2ms/step - loss: 0.0883 - acc: 0.9518 - val_loss: 0.1168 - val_acc: 0.9439\n",
      "Epoch 48/75\n",
      "492/492 [==============================] - 1s 2ms/step - loss: 0.0879 - acc: 0.9581 - val_loss: 0.1166 - val_acc: 0.9503\n",
      "Epoch 49/75\n",
      "492/492 [==============================] - 1s 2ms/step - loss: 0.0874 - acc: 0.9624 - val_loss: 0.1167 - val_acc: 0.9530\n",
      "Epoch 50/75\n",
      "492/492 [==============================] - 1s 2ms/step - loss: 0.0871 - acc: 0.9651 - val_loss: 0.1159 - val_acc: 0.9557\n",
      "Epoch 51/75\n",
      "492/492 [==============================] - 1s 2ms/step - loss: 0.0868 - acc: 0.9672 - val_loss: 0.1157 - val_acc: 0.9575\n",
      "Epoch 52/75\n",
      "492/492 [==============================] - 1s 2ms/step - loss: 0.0864 - acc: 0.9685 - val_loss: 0.1151 - val_acc: 0.9591\n",
      "Epoch 53/75\n",
      "492/492 [==============================] - 1s 2ms/step - loss: 0.0861 - acc: 0.9699 - val_loss: 0.1155 - val_acc: 0.9601\n",
      "Epoch 54/75\n",
      "492/492 [==============================] - 1s 2ms/step - loss: 0.0859 - acc: 0.9706 - val_loss: 0.1174 - val_acc: 0.9600\n",
      "Epoch 55/75\n",
      "492/492 [==============================] - 1s 2ms/step - loss: 0.0855 - acc: 0.9717 - val_loss: 0.1145 - val_acc: 0.9624\n",
      "Epoch 56/75\n",
      "492/492 [==============================] - 1s 2ms/step - loss: 0.0853 - acc: 0.9728 - val_loss: 0.1156 - val_acc: 0.9626\n",
      "Epoch 57/75\n",
      "492/492 [==============================] - 1s 2ms/step - loss: 0.0850 - acc: 0.9731 - val_loss: 0.1157 - val_acc: 0.9632\n",
      "Epoch 58/75\n",
      "492/492 [==============================] - 1s 2ms/step - loss: 0.0846 - acc: 0.9741 - val_loss: 0.1179 - val_acc: 0.9630\n",
      "Epoch 59/75\n",
      "492/492 [==============================] - 1s 2ms/step - loss: 0.0845 - acc: 0.9745 - val_loss: 0.1166 - val_acc: 0.9641\n",
      "Epoch 60/75\n",
      "492/492 [==============================] - 1s 2ms/step - loss: 0.0840 - acc: 0.9752 - val_loss: 0.1148 - val_acc: 0.9654\n",
      "Epoch 61/75\n",
      "492/492 [==============================] - 1s 2ms/step - loss: 0.0837 - acc: 0.9756 - val_loss: 0.1150 - val_acc: 0.9657\n",
      "Epoch 62/75\n"
     ]
    },
    {
     "name": "stdout",
     "output_type": "stream",
     "text": [
      "492/492 [==============================] - 1s 2ms/step - loss: 0.0834 - acc: 0.9759 - val_loss: 0.1142 - val_acc: 0.9663\n",
      "Epoch 63/75\n",
      "492/492 [==============================] - 1s 2ms/step - loss: 0.0829 - acc: 0.9763 - val_loss: 0.1131 - val_acc: 0.9672\n",
      "Epoch 64/75\n",
      "492/492 [==============================] - 1s 2ms/step - loss: 0.0823 - acc: 0.9768 - val_loss: 0.1136 - val_acc: 0.9673\n",
      "Epoch 65/75\n",
      "492/492 [==============================] - 1s 2ms/step - loss: 0.0818 - acc: 0.9771 - val_loss: 0.1136 - val_acc: 0.9677\n",
      "Epoch 66/75\n",
      "492/492 [==============================] - 1s 2ms/step - loss: 0.0811 - acc: 0.9774 - val_loss: 0.1115 - val_acc: 0.9685\n",
      "Epoch 67/75\n",
      "492/492 [==============================] - 1s 2ms/step - loss: 0.0804 - acc: 0.9776 - val_loss: 0.1127 - val_acc: 0.9684\n",
      "Epoch 68/75\n",
      "492/492 [==============================] - 1s 2ms/step - loss: 0.0794 - acc: 0.9776 - val_loss: 0.1088 - val_acc: 0.9693\n",
      "Epoch 69/75\n",
      "492/492 [==============================] - 1s 2ms/step - loss: 0.0785 - acc: 0.9777 - val_loss: 0.1094 - val_acc: 0.9692\n",
      "Epoch 70/75\n",
      "492/492 [==============================] - 1s 2ms/step - loss: 0.0773 - acc: 0.9779 - val_loss: 0.1083 - val_acc: 0.9694\n",
      "Epoch 71/75\n",
      "492/492 [==============================] - 1s 2ms/step - loss: 0.0762 - acc: 0.9777 - val_loss: 0.1064 - val_acc: 0.9697\n",
      "Epoch 72/75\n",
      "492/492 [==============================] - 1s 2ms/step - loss: 0.0748 - acc: 0.9779 - val_loss: 0.1042 - val_acc: 0.9699\n",
      "Epoch 73/75\n",
      "492/492 [==============================] - 1s 2ms/step - loss: 0.0737 - acc: 0.9779 - val_loss: 0.1024 - val_acc: 0.9700\n",
      "Epoch 74/75\n",
      "492/492 [==============================] - 1s 2ms/step - loss: 0.0726 - acc: 0.9780 - val_loss: 0.1021 - val_acc: 0.9701\n",
      "Epoch 75/75\n",
      "492/492 [==============================] - 1s 2ms/step - loss: 0.0717 - acc: 0.9782 - val_loss: 0.1012 - val_acc: 0.9702\n"
     ]
    }
   ],
   "source": [
    "# Train the model, iterating on the data in batches of 64 samples\n",
    "history = model.fit(x_train, y_train, validation_split=0.3, epochs=epochs, batch_size=bs)"
   ]
  },
  {
   "cell_type": "markdown",
   "metadata": {},
   "source": [
    "## 7. Visualize"
   ]
  },
  {
   "cell_type": "code",
   "execution_count": 82,
   "metadata": {},
   "outputs": [
    {
     "data": {
      "image/png": "[encoded data removed]",
      "text/plain": [
       "<Figure size 432x288 with 1 Axes>"
      ]
     },
     "metadata": {
      "needs_background": "light"
     },
     "output_type": "display_data"
    }
   ],
   "source": [
    "# plot train and validation loss \n",
    "plt.plot(history.history['loss'])\n",
    "plt.plot(history.history['val_loss'])\n",
    "plt.title('model loss')\n",
    "plt.ylabel('loss')\n",
    "plt.xlabel('epoch')\n",
    "plt.legend(['train', 'validation'], loc='upper left')\n",
    "plt.show(); plt.close()\n"
   ]
  },
  {
   "cell_type": "markdown",
   "metadata": {},
   "source": [
    "## 8. Model Evaluation"
   ]
  },
  {
   "cell_type": "code",
   "execution_count": 83,
   "metadata": {},
   "outputs": [
    {
     "name": "stdout",
     "output_type": "stream",
     "text": [
      "256/256 [==============================] - 0s 647us/step\n",
      "test loss: 0.11231672763824463\n",
      "test accuracy: 0.9696907103061676\n"
     ]
    },
    {
     "data": {
      "text/plain": [
       "(-0.5, 79.5, 63.5, -0.5)"
      ]
     },
     "execution_count": 83,
     "metadata": {},
     "output_type": "execute_result"
    },
    {
     "data": {
      "image/png": "[encoded data removed]",
      "text/plain": [
       "<Figure size 432x288 with 9 Axes>"
      ]
     },
     "metadata": {
      "needs_background": "light"
     },
     "output_type": "display_data"
    }
   ],
   "source": [
    "y_pred = model.predict(x_test)\n",
    "test_loss, test_acc = model.evaluate(x_test, y_test)\n",
    "\n",
    "# Print results\n",
    "print('test loss:', test_loss)\n",
    "print('test accuracy:', test_acc)\n",
    "\n",
    "# visualize some images with their prediction and true labels\n",
    "plt.subplot(3,3,1)\n",
    "plt.imshow(np.squeeze(x_test[10,:,:]))\n",
    "plt.axis('off')\n",
    "\n",
    "plt.subplot(3,3,2)\n",
    "plt.imshow(np.squeeze(x_test[20,:,:]))\n",
    "plt.axis('off')\n",
    "\n",
    "plt.subplot(3,3,3)\n",
    "plt.imshow(np.squeeze(x_test[30,:,:]))\n",
    "plt.axis('off')\n",
    "\n",
    "plt.subplot(3,3,4)\n",
    "plt.imshow(y_pred[10,:,:])\n",
    "plt.axis('off')\n",
    "\n",
    "plt.subplot(3,3,5)\n",
    "plt.imshow(y_pred[20,:,:])\n",
    "plt.axis('off')\n",
    "\n",
    "plt.subplot(3,3,6)\n",
    "plt.imshow(y_pred[30,:,:])\n",
    "plt.axis('off')\n",
    "\n",
    "plt.subplot(3,3,7)\n",
    "plt.imshow(y_test[10,:,:])\n",
    "plt.axis('off')\n",
    "\n",
    "plt.subplot(3,3,8)\n",
    "plt.imshow(y_test[20,:,:])\n",
    "plt.axis('off')\n",
    "\n",
    "plt.subplot(3,3,9)\n",
    "plt.imshow(y_test[30,:,:])\n",
    "plt.axis('off')"
   ]
  },
  {
   "cell_type": "code",
   "execution_count": null,
   "metadata": {},
   "outputs": [],
   "source": []
  }
 ],
 "metadata": {
  "kernelspec": {
   "display_name": "Python 3",
   "language": "python",
   "name": "python3"
  },
  "language_info": {
   "codemirror_mode": {
    "name": "ipython",
    "version": 3
   },
   "file_extension": ".py",
   "mimetype": "text/x-python",
   "name": "python",
   "nbconvert_exporter": "python",
   "pygments_lexer": "ipython3",
   "version": "3.7.4"
  }
 },
 "nbformat": 4,
 "nbformat_minor": 2
}
