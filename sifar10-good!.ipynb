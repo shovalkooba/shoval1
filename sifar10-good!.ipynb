{
  "nbformat": 4,
  "nbformat_minor": 0,
  "metadata": {
    "colab": {
      "name": "exc2 part 1.ipynb",
      "provenance": [],
      "collapsed_sections": [],
      "machine_shape": "hm",
      "include_colab_link": true
    },
    "kernelspec": {
      "name": "python3",
      "display_name": "Python 3"
    }
  },
  "cells": [
    {
      "cell_type": "markdown",
      "metadata": {
        "id": "view-in-github",
        "colab_type": "text"
      },
      "source": [
        "<a href=\"https://colab.research.google.com/github/shovalkooba/shoval1/blob/master/sifar10-good!.ipynb\" target=\"_parent\"><img src=\"https://colab.research.google.com/assets/colab-badge.svg\" alt=\"Open In Colab\"/></a>"
      ]
    },
    {
      "cell_type": "markdown",
      "metadata": {
        "id": "vp80hJV6qmzl",
        "colab_type": "text"
      },
      "source": [
        "Confusion matrix plot function"
      ]
    },
    {
      "cell_type": "code",
      "metadata": {
        "id": "feFKZJucqm89",
        "colab_type": "code",
        "colab": {}
      },
      "source": [
        "\"\"\"\n",
        "================\n",
        "Confusion matrix\n",
        "================\n",
        "\n",
        "Example of confusion matrix usage to evaluate the quality\n",
        "of the output of a classifier on the iris data set. The\n",
        "diagonal elements represent the number of points for which\n",
        "the predicted label is equal to the true label, while\n",
        "off-diagonal elements are those that are mislabeled by the\n",
        "classifier. The higher the diagonal values of the confusion\n",
        "matrix the better, indicating many correct predictions.\n",
        "\n",
        "The figures show the confusion matrix with and without\n",
        "normalization by class support size (number of elements\n",
        "in each class). This kind of normalization can be\n",
        "interesting in case of class imbalance to have a more\n",
        "visual interpretation of which class is being misclassified.\n",
        "\n",
        "Here the results are not as good as they could be as our\n",
        "choice for the regularization parameter C was not the best.\n",
        "In real life applications this parameter is usually chosen\n",
        "using :ref:`grid_search`.\n",
        "\n",
        "\"\"\"\n",
        "\n",
        "#print(__doc__)\n",
        "\n",
        "import itertools\n",
        "import numpy as np\n",
        "import matplotlib.pyplot as plt\n",
        "\n",
        "def plot_confusion_matrix(cm, classes,\n",
        "                          normalize=True,\n",
        "                          title='Confusion matrix',\n",
        "                          cmap=plt.cm.Blues):\n",
        "    \"\"\"\n",
        "    This function prints and plots the confusion matrix.\n",
        "    Normalization can be applied by setting `normalize=True`.\n",
        "    \"\"\"\n",
        "    if normalize:\n",
        "        normed_cm = cm.astype('float') / cm.sum(axis=1)[:, np.newaxis]\n",
        "        normed_cm = normed_cm*100;\n",
        "        print(\"Normalized confusion matrix\")\n",
        "        print(normed_cm)\n",
        "    else:\n",
        "        print('Confusion matrix, without normalization')\n",
        "\n",
        "    print(cm)\n",
        "\n",
        "    plt.figure(figsize=(20,20))\n",
        "    plt.imshow(normed_cm, interpolation='nearest', cmap=cmap)\n",
        "    plt.title(title)\n",
        "    plt.colorbar()\n",
        "    tick_marks = np.arange(len(classes))\n",
        "    plt.xticks(tick_marks, classes, rotation=45)\n",
        "    plt.yticks(tick_marks, classes)\n",
        "\n",
        "    fmt = '.2f' if normalize else 'd'\n",
        "    thresh = cm.max() / 2.\n",
        "    for i, j in itertools.product(range(cm.shape[0]), range(cm.shape[1])):\n",
        "        plt.text(j,i, format(normed_cm[i, j], fmt)+'%\\n('+(format(cm[i, j], 'd'))+')',\n",
        "                 horizontalalignment=\"center\",\n",
        "                 color=\"white\" if cm[i, j] > thresh else \"black\")\n",
        "\n",
        "    plt.gcf().subplots_adjust(bottom=0.3)\n",
        "    plt.ylabel('True label')\n",
        "    plt.xlabel('Predicted label')\n",
        "\n"
      ],
      "execution_count": 0,
      "outputs": []
    },
    {
      "cell_type": "markdown",
      "metadata": {
        "id": "xRUMeIPmj4xB",
        "colab_type": "text"
      },
      "source": [
        "Import Libraries"
      ]
    },
    {
      "cell_type": "code",
      "metadata": {
        "id": "cLZY273Hj5cP",
        "colab_type": "code",
        "colab": {}
      },
      "source": [
        "from keras.datasets import cifar10\n",
        "from keras.models import Sequential, Model\n",
        "import keras.layers as layers\n",
        "from keras.utils import to_categorical\n",
        "from keras import optimizers\n",
        "from keras.models import model_from_json\n",
        "import matplotlib.pyplot as plt\n",
        "from sklearn.metrics import confusion_matrix\n",
        "from sklearn.metrics import plot_confusion_matrix\n",
        "import numpy as np\n",
        "from keras.layers import Conv2D,Flatten, Dense, Activation, MaxPooling2D, Dropout, BatchNormalization\n",
        "from sklearn.metrics import roc_auc_score\n",
        "from sklearn.metrics import roc_curve, auc\n",
        "from numpy import argmax\n"
      ],
      "execution_count": 0,
      "outputs": []
    },
    {
      "cell_type": "markdown",
      "metadata": {
        "id": "j6u7hk-_j360",
        "colab_type": "text"
      },
      "source": [
        "Load Data"
      ]
    },
    {
      "cell_type": "code",
      "metadata": {
        "id": "NI7705ValnKH",
        "colab_type": "code",
        "outputId": "e14eb51a-92f0-4d54-ca3a-d4bafe761131",
        "colab": {
          "base_uri": "https://localhost:8080/",
          "height": 87
        }
      },
      "source": [
        "(x_train, y_train), (x_test, y_test) = cifar10.load_data()\n",
        "\n",
        "\n",
        "# Change labels to one-hot encoding\\n\",\n",
        "y_train = to_categorical(y_train)\n",
        "y_test = to_categorical(y_test)\n",
        "# Print shapes\n",
        "print('x_train shape:', x_train.shape)\n",
        "print('x_test shape:', x_test.shape)\n",
        "print('y_train shape:', y_train.shape)\n",
        "print('y_test shape:', y_test.shape)"
      ],
      "execution_count": 38,
      "outputs": [
        {
          "output_type": "stream",
          "text": [
            "x_train shape: (50000, 32, 32, 3)\n",
            "x_test shape: (10000, 32, 32, 3)\n",
            "y_train shape: (50000, 10)\n",
            "y_test shape: (10000, 10)\n"
          ],
          "name": "stdout"
        }
      ]
    },
    {
      "cell_type": "markdown",
      "metadata": {
        "id": "PW4J_QpOj3DN",
        "colab_type": "text"
      },
      "source": [
        "Define Parameters"
      ]
    },
    {
      "cell_type": "code",
      "metadata": {
        "id": "Zusbhm_fnZ7e",
        "colab_type": "code",
        "colab": {}
      },
      "source": [
        "num_of_clss =   10          # number of classes\n",
        "\n",
        "lr =      1e-4               # learning rate \n",
        "beta_1 =      0.9           # beta 1 - for adam optimizer\n",
        "beta_2 = 0.99        # beta 2 - for adam optimizer\n",
        "epsilon =    1e-8            # epsilon - for adam optimizer\n",
        "epochs =    50           # number of epochs \n",
        "bs =       16        # batch size\n",
        "dp=0.5"
      ],
      "execution_count": 0,
      "outputs": []
    },
    {
      "cell_type": "markdown",
      "metadata": {
        "id": "G8VZyVhonhaZ",
        "colab_type": "text"
      },
      "source": [
        "Network layes"
      ]
    },
    {
      "cell_type": "code",
      "metadata": {
        "id": "N9E4RIjrnpPK",
        "colab_type": "code",
        "colab": {}
      },
      "source": [
        "\n",
        "model = Sequential()\n",
        "\n",
        "model.add(Conv2D(32, (3, 3), activation='relu', padding='same'))\n",
        "model.add(Conv2D(32, (3, 3), activation='relu', padding='same'))\n",
        "model.add(MaxPooling2D((2, 2)))\n",
        "model.add(Dropout(dp))\n",
        "\n",
        "model.add(Conv2D(64, (3, 3), activation='relu', padding='same'))\n",
        "model.add(Conv2D(64, (3, 3), activation='relu', padding='same'))\n",
        "model.add(MaxPooling2D((2, 2)))\n",
        "model.add(Dropout(dp))\n",
        "\n",
        "model.add(Conv2D(128, (3, 3), activation='relu', padding='same'))\n",
        "model.add(Conv2D(128, (3, 3), activation='relu', padding='same'))\n",
        "model.add(MaxPooling2D((2, 2)))\n",
        "model.add(Dropout(dp))\n",
        "\n",
        "model.add(Flatten())\n",
        "model.add(Dense(128, activation='sigmoid',))\n",
        "model.add(Dense(10, activation='softmax'))\n"
      ],
      "execution_count": 0,
      "outputs": []
    },
    {
      "cell_type": "markdown",
      "metadata": {
        "id": "FmIuhpu2oVww",
        "colab_type": "text"
      },
      "source": [
        "Train the model"
      ]
    },
    {
      "cell_type": "code",
      "metadata": {
        "id": "FzicMwDGoJ1h",
        "colab_type": "code",
        "outputId": "8ae4dfee-a9af-480f-e004-2db425aa986e",
        "colab": {
          "base_uri": "https://localhost:8080/",
          "height": 527
        }
      },
      "source": [
        "# define the optimizer and compile the model\n",
        "adam = optimizers.Adam(lr=lr, beta_1=beta_1, beta_2=beta_2, epsilon=epsilon)\n",
        "model.compile(optimizer=adam, loss='categorical_crossentropy', metrics=['accuracy'])\n",
        "\n",
        "# Train the model, iterating on the data in batches of 64 samples\n",
        "history = model.fit(x_train, y_train, validation_split=0.3, epochs=epochs, batch_size=bs)\n"
      ],
      "execution_count": 0,
      "outputs": [
        {
          "output_type": "stream",
          "text": [
            "Train on 35000 samples, validate on 15000 samples\n",
            "Epoch 1/50\n",
            "35000/35000 [==============================] - 175s 5ms/step - loss: 2.3352 - acc: 0.1082 - val_loss: 2.3081 - val_acc: 0.0973\n",
            "Epoch 2/50\n",
            "35000/35000 [==============================] - 172s 5ms/step - loss: 2.3022 - acc: 0.1149 - val_loss: 2.3029 - val_acc: 0.1015\n",
            "Epoch 3/50\n",
            "35000/35000 [==============================] - 172s 5ms/step - loss: 2.2881 - acc: 0.1185 - val_loss: 2.2739 - val_acc: 0.1059\n",
            "Epoch 4/50\n",
            "35000/35000 [==============================] - 172s 5ms/step - loss: 2.1644 - acc: 0.1731 - val_loss: 2.0726 - val_acc: 0.2099\n",
            "Epoch 5/50\n",
            "35000/35000 [==============================] - 170s 5ms/step - loss: 2.0614 - acc: 0.2164 - val_loss: 1.9736 - val_acc: 0.2449\n",
            "Epoch 6/50\n",
            "35000/35000 [==============================] - 170s 5ms/step - loss: 1.9735 - acc: 0.2450 - val_loss: 1.9812 - val_acc: 0.2363\n",
            "Epoch 7/50\n",
            "35000/35000 [==============================] - 169s 5ms/step - loss: 1.9333 - acc: 0.2610 - val_loss: 1.8946 - val_acc: 0.2891\n",
            "Epoch 8/50\n",
            "35000/35000 [==============================] - 169s 5ms/step - loss: 1.8838 - acc: 0.2867 - val_loss: 1.8076 - val_acc: 0.3233\n",
            "Epoch 9/50\n",
            "35000/35000 [==============================] - 170s 5ms/step - loss: 1.8190 - acc: 0.3181 - val_loss: 1.7381 - val_acc: 0.3446\n",
            "Epoch 10/50\n",
            "35000/35000 [==============================] - 171s 5ms/step - loss: 1.7677 - acc: 0.3315 - val_loss: 1.7817 - val_acc: 0.3390\n",
            "Epoch 11/50\n",
            "35000/35000 [==============================] - 170s 5ms/step - loss: 1.7361 - acc: 0.3439 - val_loss: 1.7149 - val_acc: 0.3597\n",
            "Epoch 12/50\n",
            "35000/35000 [==============================] - 170s 5ms/step - loss: 1.6931 - acc: 0.3655 - val_loss: 1.6409 - val_acc: 0.3997\n",
            "Epoch 13/50\n",
            "35000/35000 [==============================] - 169s 5ms/step - loss: 1.6522 - acc: 0.3796 - val_loss: 1.6128 - val_acc: 0.3983\n",
            "Epoch 14/50\n",
            "34768/35000 [============================>.] - ETA: 1s - loss: 1.6224 - acc: 0.3971"
          ],
          "name": "stdout"
        }
      ]
    },
    {
      "cell_type": "markdown",
      "metadata": {
        "id": "tgx10wVmyCfF",
        "colab_type": "text"
      },
      "source": [
        "Plot Train and Validation loss"
      ]
    },
    {
      "cell_type": "code",
      "metadata": {
        "id": "GCOJuIl6yPKQ",
        "colab_type": "code",
        "outputId": "2b44ca33-e98a-498f-8a12-6f2a3c0bb75d",
        "colab": {
          "base_uri": "https://localhost:8080/",
          "height": 295
        }
      },
      "source": [
        "plt.plot(history.history['loss'])\n",
        "plt.plot(history.history['val_loss'])\n",
        "plt.title('model loss')\n",
        "plt.ylabel('loss')\n",
        "plt.xlabel('epoch')\n",
        "plt.legend(['train', 'validation'], loc='upper right')\n",
        "plt.show(); plt.close()\n"
      ],
      "execution_count": 42,
      "outputs": [
        {
          "output_type": "display_data",
          "data": {
            "image/png": "[encoded data removed]",
            "text/plain": [
              "<Figure size 432x288 with 1 Axes>"
            ]
          },
          "metadata": {
            "tags": []
          }
        }
      ]
    },
    {
      "cell_type": "markdown",
      "metadata": {
        "id": "PrsbTdfOocYw",
        "colab_type": "text"
      },
      "source": [
        "Model evaluation"
      ]
    },
    {
      "cell_type": "code",
      "metadata": {
        "id": "zCe9mTe4oy67",
        "colab_type": "code",
        "outputId": "222a0cae-a08c-4779-af95-93330f3dd3f4",
        "colab": {
          "base_uri": "https://localhost:8080/",
          "height": 70
        }
      },
      "source": [
        "test_loss, test_acc = model.evaluate(x_test, y_test)\n",
        "\n",
        "# Print results\n",
        "print('test loss:', test_loss)\n",
        "print('test accuracy:', test_acc)\n",
        "y_pred = model.predict(x_test)"
      ],
      "execution_count": 43,
      "outputs": [
        {
          "output_type": "stream",
          "text": [
            "10000/10000 [==============================] - 0s 46us/step\n",
            "test loss: 2.081324666595459\n",
            "test accuracy: 0.234\n"
          ],
          "name": "stdout"
        }
      ]
    },
    {
      "cell_type": "markdown",
      "metadata": {
        "id": "qAaV8CF8oQJ7",
        "colab_type": "text"
      },
      "source": [
        "Predict on test set"
      ]
    },
    {
      "cell_type": "code",
      "metadata": {
        "id": "Ste3IfZYpLrl",
        "colab_type": "code",
        "outputId": "918ddb04-34a7-439c-f9fe-80c28ed118ae",
        "colab": {
          "base_uri": "https://localhost:8080/",
          "height": 1000
        }
      },
      "source": [
        "cm = confusion_matrix(np.argmax(y_test,axis=1), np.argmax(np.round(y_pred),axis=1))\n",
        "labels = ['class ' + str(i) for i in range(num_of_clss)] \n",
        "plot_confusion_matrix(cm,labels,title='Confusion Matrix',normalize=True)\n"
      ],
      "execution_count": 46,
      "outputs": [
        {
          "output_type": "stream",
          "text": [
            "Normalized confusion matrix\n",
            "[[100.   0.   0.   0.   0.   0.   0.   0.   0.   0.]\n",
            " [100.   0.   0.   0.   0.   0.   0.   0.   0.   0.]\n",
            " [100.   0.   0.   0.   0.   0.   0.   0.   0.   0.]\n",
            " [100.   0.   0.   0.   0.   0.   0.   0.   0.   0.]\n",
            " [100.   0.   0.   0.   0.   0.   0.   0.   0.   0.]\n",
            " [100.   0.   0.   0.   0.   0.   0.   0.   0.   0.]\n",
            " [100.   0.   0.   0.   0.   0.   0.   0.   0.   0.]\n",
            " [100.   0.   0.   0.   0.   0.   0.   0.   0.   0.]\n",
            " [100.   0.   0.   0.   0.   0.   0.   0.   0.   0.]\n",
            " [100.   0.   0.   0.   0.   0.   0.   0.   0.   0.]]\n",
            "[[1000    0    0    0    0    0    0    0    0    0]\n",
            " [1000    0    0    0    0    0    0    0    0    0]\n",
            " [1000    0    0    0    0    0    0    0    0    0]\n",
            " [1000    0    0    0    0    0    0    0    0    0]\n",
            " [1000    0    0    0    0    0    0    0    0    0]\n",
            " [1000    0    0    0    0    0    0    0    0    0]\n",
            " [1000    0    0    0    0    0    0    0    0    0]\n",
            " [1000    0    0    0    0    0    0    0    0    0]\n",
            " [1000    0    0    0    0    0    0    0    0    0]\n",
            " [1000    0    0    0    0    0    0    0    0    0]]\n"
          ],
          "name": "stdout"
        },
        {
          "output_type": "display_data",
          "data": {
            "image/png": "[encoded data removed]",
            "text/plain": [
              "<Figure size 1440x1440 with 2 Axes>"
            ]
          },
          "metadata": {
            "tags": []
          }
        }
      ]
    },
    {
      "cell_type": "markdown",
      "metadata": {
        "id": "gn3mF4HopYwS",
        "colab_type": "text"
      },
      "source": [
        "Sunnerize"
      ]
    },
    {
      "cell_type": "code",
      "metadata": {
        "id": "nfIVp-HIqWd3",
        "colab_type": "code",
        "outputId": "3a46ab10-6d16-44fb-fcb6-94d9a63f277e",
        "colab": {
          "base_uri": "https://localhost:8080/",
          "height": 263
        }
      },
      "source": [
        "# Summerize the model arhiteture and parameters\n",
        "model.summary()"
      ],
      "execution_count": 47,
      "outputs": [
        {
          "output_type": "stream",
          "text": [
            "Model: \"sequential_2\"\n",
            "_________________________________________________________________\n",
            "Layer (type)                 Output Shape              Param #   \n",
            "=================================================================\n",
            "flatten_3 (Flatten)          (None, 3072)              0         \n",
            "_________________________________________________________________\n",
            "dense_3 (Dense)              (None, 128)               393344    \n",
            "_________________________________________________________________\n",
            "dense_4 (Dense)              (None, 10)                1290      \n",
            "=================================================================\n",
            "Total params: 394,634\n",
            "Trainable params: 394,634\n",
            "Non-trainable params: 0\n",
            "_________________________________________________________________\n"
          ],
          "name": "stdout"
        }
      ]
    },
    {
      "cell_type": "markdown",
      "metadata": {
        "id": "fYrTp0HxSbjL",
        "colab_type": "text"
      },
      "source": [
        "*binary* division for 0-else "
      ]
    },
    {
      "cell_type": "code",
      "metadata": {
        "id": "U93tzvy_SbwC",
        "colab_type": "code",
        "colab": {}
      },
      "source": [
        "y_test_auc = [None] * len(y_test)\n",
        "y_pred_auc = [None] * len(y_pred)\n",
        "\n",
        "for i in range(0,len(y_test)):\n",
        "  if(argmax(y_test[i])==0):\n",
        "    y_test_auc[i]=0\n",
        "  else:\n",
        "   y_test_auc[i]=1\n",
        "\n",
        "\n",
        "for i in range(0,len(y_pred)):\n",
        "  if(argmax(y_pred[i])==0):\n",
        "    y_pred_auc[i]=0\n",
        "  else:\n",
        "   y_pred_auc[i]=1\n",
        "\n",
        "\n",
        "y_pred_auc= to_categorical(y_pred_auc)\n",
        "y_test_auc= to_categorical(y_test_auc)\n",
        "\n"
      ],
      "execution_count": 0,
      "outputs": []
    },
    {
      "cell_type": "markdown",
      "metadata": {
        "id": "1BViel6pSiSC",
        "colab_type": "text"
      },
      "source": [
        ""
      ]
    },
    {
      "cell_type": "code",
      "metadata": {
        "id": "H3eO93EXSid7",
        "colab_type": "code",
        "colab": {}
      },
      "source": [
        "# Compute ROC curve and ROC area for each class\n",
        "fpr = dict()\n",
        "tpr = dict()\n",
        "roc_auc = dict()\n",
        "# Compute ROC curve and ROC area for each class\n",
        "\n",
        "for i in range(2):\n",
        "    fpr[i], tpr[i], _ = roc_curve(y_test_auc[:, i], y_pred_auc[:, i])\n",
        "    roc_auc[i] = auc(fpr[i], tpr[i])\n",
        "\n",
        "# Compute micro-average ROC curve and ROC area\n",
        "fpr[\"micro\"], tpr[\"micro\"], _ = roc_curve(y_test_auc.ravel(), y_pred_auc.ravel())\n",
        "roc_auc[\"micro\"] = auc(fpr[\"micro\"], tpr[\"micro\"])"
      ],
      "execution_count": 0,
      "outputs": []
    },
    {
      "cell_type": "markdown",
      "metadata": {
        "id": "vk6BZMfCSjUC",
        "colab_type": "text"
      },
      "source": [
        "plot roc curve"
      ]
    },
    {
      "cell_type": "code",
      "metadata": {
        "id": "Ty8ZFU3uSjcU",
        "colab_type": "code",
        "colab": {
          "base_uri": "https://localhost:8080/",
          "height": 295
        },
        "outputId": "3213c970-e165-4b4e-cd8d-ef0fb51e99f1"
      },
      "source": [
        "plt.figure()\n",
        "plt.plot(fpr[i], tpr[i], color='darkorange',\n",
        "         lw=0.5, label='ROC curve (area = %0.2f)' % roc_auc[i])\n",
        "plt.plot([0, 1], [0, 1], color='navy', lw=0.5, linestyle='--')\n",
        "plt.xlim([0.0, 1.0])\n",
        "plt.ylim([0.0, 1.05])\n",
        "plt.xlabel('False Positive Rate')\n",
        "plt.ylabel('True Positive Rate')\n",
        "plt.title('Receiver operating characteristic example')\n",
        "plt.legend(loc=\"lower right\")\n",
        "plt.show()"
      ],
      "execution_count": 50,
      "outputs": [
        {
          "output_type": "display_data",
          "data": {
            "image/png": "[encoded data removed]",
            "text/plain": [
              "<Figure size 432x288 with 1 Axes>"
            ]
          },
          "metadata": {
            "tags": []
          }
        }
      ]
    },
    {
      "cell_type": "markdown",
      "metadata": {
        "id": "-7DkcE1zoeSp",
        "colab_type": "text"
      },
      "source": [
        "calculate auc"
      ]
    },
    {
      "cell_type": "code",
      "metadata": {
        "id": "4hsVZFc2oekC",
        "colab_type": "code",
        "colab": {}
      },
      "source": [
        "print('auc score is:' roc_auc_score(y_test_auc, y_pred_auc...........................................................................................))"
      ],
      "execution_count": 0,
      "outputs": []
    },
    {
      "cell_type": "markdown",
      "metadata": {
        "id": "1D43vMmanyAg",
        "colab_type": "text"
      },
      "source": [
        "plot confusion matrix for binary classification"
      ]
    },
    {
      "cell_type": "code",
      "metadata": {
        "id": "fRUkt8Son3Ar",
        "colab_type": "code",
        "colab": {}
      },
      "source": [
        "cm = confusion_matrix(np.argmax(y_test_auc,axis=1), np.argmax(np.round(y_pred_auc),axis=1))\n",
        "labels = ['class ' + str(i) for i in range(2)] \n",
        "plot_confusion_matrix(cm,labels,title='Confusion Matrix',normalize=True)"
      ],
      "execution_count": 0,
      "outputs": []
    }
  ]
}